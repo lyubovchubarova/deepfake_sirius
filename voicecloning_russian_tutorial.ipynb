{
  "cells": [
    {
      "cell_type": "markdown",
      "metadata": {
        "id": "cZXtZhYYlBrh"
      },
      "source": [
        "Меняем среду выполнения на T4 GPU"
      ]
    },
    {
      "cell_type": "code",
      "execution_count": null,
      "metadata": {
        "id": "g0jRlADMRYrm"
      },
      "outputs": [],
      "source": [
        "!pip3 install onnx vosk-tts"
      ]
    },
    {
      "cell_type": "code",
      "execution_count": null,
      "metadata": {
        "id": "1ZXfMxsfqxg2"
      },
      "outputs": [],
      "source": [
        "!git clone https://github.com/alphacep/vosk-tts"
      ]
    },
    {
      "cell_type": "markdown",
      "metadata": {
        "id": "50m6bomfWAJa"
      },
      "source": [
        "Создаём папку monotonic_align внутри monotonic_align, потому что в vosk-tts/training/monotonic_align/setup.py указан относительный путь monotonic_align. Запускаем setup.py"
      ]
    },
    {
      "cell_type": "code",
      "execution_count": null,
      "metadata": {
        "id": "MIlTL1cSxwrR"
      },
      "outputs": [],
      "source": [
        "%cd vosk-tts/training\n",
        "%cd monotonic_align\n",
        "%mkdir monotonic_align\n",
        "!python setup.py build_ext --inplace"
      ]
    },
    {
      "cell_type": "code",
      "execution_count": null,
      "metadata": {
        "id": "2nOfjruFx0Qb"
      },
      "outputs": [],
      "source": [
        "%cd .."
      ]
    },
    {
      "cell_type": "markdown",
      "metadata": {
        "id": "BrbncVxZXWJU"
      },
      "source": [
        "Скачиваем обученную модель"
      ]
    },
    {
      "cell_type": "code",
      "execution_count": null,
      "metadata": {
        "colab": {
          "base_uri": "https://localhost:8080/"
        },
        "id": "3CpvjvS6x11V",
        "outputId": "9a85da24-a739-4fc8-b97f-d9b0e3548ab9"
      },
      "outputs": [
        {
          "name": "stdout",
          "output_type": "stream",
          "text": [
            "Cloning into 'pretrained'...\n",
            "remote: Enumerating objects: 19, done.\u001b[K\n",
            "remote: Counting objects:   6% (1/15)\u001b[K\rremote: Counting objects:  13% (2/15)\u001b[K\rremote: Counting objects:  20% (3/15)\u001b[K\rremote: Counting objects:  26% (4/15)\u001b[K\rremote: Counting objects:  33% (5/15)\u001b[K\rremote: Counting objects:  40% (6/15)\u001b[K\rremote: Counting objects:  46% (7/15)\u001b[K\rremote: Counting objects:  53% (8/15)\u001b[K\rremote: Counting objects:  60% (9/15)\u001b[K\rremote: Counting objects:  66% (10/15)\u001b[K\rremote: Counting objects:  73% (11/15)\u001b[K\rremote: Counting objects:  80% (12/15)\u001b[K\rremote: Counting objects:  86% (13/15)\u001b[K\rremote: Counting objects:  93% (14/15)\u001b[K\rremote: Counting objects: 100% (15/15)\u001b[K\rremote: Counting objects: 100% (15/15), done.\u001b[K\n",
            "remote: Compressing objects: 100% (15/15), done.\u001b[K\n",
            "remote: Total 19 (delta 2), reused 0 (delta 0), pack-reused 4\u001b[K\n",
            "Unpacking objects: 100% (19/19), 1.68 MiB | 11.03 MiB/s, done.\n",
            "Filtering content: 100% (3/3), 1010.85 MiB | 82.39 MiB/s, done.\n"
          ]
        }
      ],
      "source": [
        "!git clone https://huggingface.co/alphacep/vosk-tts-ru-multi pretrained"
      ]
    },
    {
      "cell_type": "code",
      "execution_count": null,
      "metadata": {
        "id": "zGaO6adRx3pi"
      },
      "outputs": [],
      "source": [
        "!wget https://alphacephei.com/vosk/models/vosk-model-tts-ru-0.4-multi.zip\n",
        "!unzip vosk-model-tts-ru-0.4-multi.zip\n",
        "%mkdir -p db\n",
        "%cp vosk-model-tts-ru-0.4-multi/dictionary db/dictionary"
      ]
    },
    {
      "cell_type": "markdown",
      "metadata": {
        "id": "ks1iE4MiYLP8"
      },
      "source": [
        "Скачиваем существующий пакет голосовой адаптации"
      ]
    },
    {
      "cell_type": "code",
      "execution_count": null,
      "metadata": {
        "id": "AFSRzkp9x5q5"
      },
      "outputs": [],
      "source": [
        "!wget https://alphacephei.com/tts/db-finetune.zip\n",
        "!unzip db-finetune.zip"
      ]
    },
    {
      "cell_type": "markdown",
      "metadata": {
        "id": "5uWzJD1PYqd3"
      },
      "source": [
        "Мы хотим обучать модель на других примерах, поэтому удаляем все аудиозаписи"
      ]
    },
    {
      "cell_type": "code",
      "execution_count": null,
      "metadata": {
        "id": "Xd0pge-BuSIA"
      },
      "outputs": [],
      "source": [
        "import os, shutil\n",
        "\n",
        "\n",
        "folder = '/content/vosk-tts/training/db-finetune/wavs'\n",
        "\n",
        "for filename in os.listdir(folder):\n",
        "    file_path = os.path.join(folder, filename)\n",
        "    try:\n",
        "        if os.path.isfile(file_path) or os.path.islink(file_path):\n",
        "            os.unlink(file_path)\n",
        "        elif os.path.isdir(file_path):\n",
        "            shutil.rmtree(file_path)\n",
        "    except Exception as e:\n",
        "        print('Failed to delete %s. Reason: %s' % (file_path, e))"
      ]
    },
    {
      "cell_type": "markdown",
      "metadata": {
        "id": "TNU3gFjTZMsQ"
      },
      "source": [
        "Скачиваем необходимые библиотеки: pydub - для того, чтобы привести наши аудиозаписи к необходимой частоте дискретизации 22050 герц, wget и PyDrive - чтобы скачать наши данные с гугл диска.\n",
        "\n",
        "Важно! Записи в датасете должны быть не больше 10-15 секунд длиной, иначе неконтролируемо вознакают ошибки"
      ]
    },
    {
      "cell_type": "code",
      "execution_count": null,
      "metadata": {
        "id": "wJnJvOBkuTh3"
      },
      "outputs": [],
      "source": [
        "!pip install pydub\n",
        "!pip install wget\n",
        "!pip install -U -q PyDrive"
      ]
    },
    {
      "cell_type": "markdown",
      "metadata": {
        "id": "akyI3ZMLe0iI"
      },
      "source": [
        "Скачиваем датасет"
      ]
    },
    {
      "cell_type": "code",
      "execution_count": null,
      "metadata": {
        "id": "9bB3ZxVL0oX9"
      },
      "outputs": [],
      "source": [
        "import os\n",
        "import wget\n",
        "import wave\n",
        "import contextlib\n",
        "from pydrive.auth import GoogleAuth\n",
        "from pydrive.drive import GoogleDrive\n",
        "from google.colab import auth\n",
        "from oauth2client.client import GoogleCredentials\n",
        "\n",
        "auth.authenticate_user()\n",
        "gauth = GoogleAuth()\n",
        "gauth.credentials = GoogleCredentials.get_application_default()\n",
        "drive = GoogleDrive(gauth)\n",
        "\n",
        "#FOLDER_ID берём из ссылки формата https://drive.google.com/drive/folders/YOUR_FOLDER_ID\n",
        "\n",
        "FOLDER_ID = '1rBujDC7qd-J8cEoDoEkQLRd9UQiSQibs' # Датасет с Павлом Волей\n",
        "file_list = drive.ListFile({'q': f\"'{FOLDER_ID}' in parents\"}).GetList()\n",
        "PATH_TO_FINETUNE = '/content/vosk-tts/training/db-finetune/'\n",
        "PATH_TO_WAVS = '/content/vosk-tts/training/db-finetune/wavs/'\n",
        "\n",
        "for i, f in enumerate(file_list):\n",
        "    if f['mimeType'] == 'audio/wav':\n",
        "        response = wget.download(f['webContentLink'], os.path.join(PATH_TO_WAVS, f['title']))\n",
        "        print(response)\n",
        "    elif f['mimeType'] == 'text/csv':\n",
        "        response = wget.download(f['webContentLink'], os.path.join(PATH_TO_FINETUNE, 'metadata-unformatted.csv'))\n",
        "        print(response)"
      ]
    },
    {
      "cell_type": "markdown",
      "metadata": {
        "id": "CkeQmrLwe4rQ"
      },
      "source": [
        "Изменяем частоту дискретизации записей"
      ]
    },
    {
      "cell_type": "code",
      "execution_count": null,
      "metadata": {
        "id": "JGQ8_z-MuocL"
      },
      "outputs": [],
      "source": [
        "import shutil\n",
        "import os\n",
        "from tqdm import tqdm\n",
        "from pydub import AudioSegment as am\n",
        "\n",
        "def rerate(filepath):\n",
        "    sound = am.from_file(filepath, format='wav')\n",
        "    sound = sound.set_frame_rate(22050)\n",
        "    sound.export(filepath, format='wav')\n",
        "\n",
        "for filename in tqdm(os.listdir(PATH_TO_WAVS)):\n",
        "    rerate(os.path.join(PATH_TO_WAVS, filename))"
      ]
    },
    {
      "cell_type": "markdown",
      "metadata": {
        "id": "BxhE8UFme-l2"
      },
      "source": [
        "Приводим метадату к нужному формату"
      ]
    },
    {
      "cell_type": "code",
      "execution_count": null,
      "metadata": {
        "id": "fFDcAlXg3OBN"
      },
      "outputs": [],
      "source": [
        "reference = open(os.path.join(PATH_TO_FINETUNE, 'metadata-unformatted.csv'), 'r')\n",
        "\n",
        "with open(os.path.join(PATH_TO_FINETUNE, 'metadata.csv'), 'w') as f:\n",
        "    for i, line in enumerate(tqdm(reference)):\n",
        "        pos = line.find(',')\n",
        "        filename = line[:pos]\n",
        "        text = line[pos+1:].strip()\n",
        "        if (text.startswith('\"')):\n",
        "            text = text[1:-1]\n",
        "        f.write('db-finetune/wavs/' + filename + '|0|' + text + '|_\\n')"
      ]
    },
    {
      "cell_type": "markdown",
      "metadata": {
        "id": "ZwXkJ6vffVVp"
      },
      "source": [
        "Генерируем выборки для обучения и тестирования"
      ]
    },
    {
      "cell_type": "code",
      "execution_count": null,
      "metadata": {
        "id": "IoViNc900Nbl"
      },
      "outputs": [],
      "source": [
        "!python3 /content/vosk-tts/training/db-finetune/traintest.py '/content/vosk-tts/training/db-finetune/metadata.csv' '10'\n",
        "# '10' означает, что каждый 10 элемент попадёт в тестирующую выборку"
      ]
    },
    {
      "cell_type": "markdown",
      "metadata": {
        "id": "DQ72U2rZf7yt"
      },
      "source": [
        "В файле train_finetune.py нужно заменить строчку 58 на **`run(rank=0, n_gpus=1, hps=hps)`** -  избавляемся от мультипроцессинга, т.к. аудио - тяжелый формат, и колаб не сможет работать с ним в формате мультипроцессинга"
      ]
    },
    {
      "cell_type": "markdown",
      "metadata": {
        "id": "abqunPBGhlG3"
      },
      "source": [
        "В db-finetune/config.json можно изменить количество эпох и другие параметры дообучения"
      ]
    },
    {
      "cell_type": "markdown",
      "metadata": {
        "id": "Sp-BZXBThx0s"
      },
      "source": [
        "Запускаем дообучение"
      ]
    },
    {
      "cell_type": "code",
      "execution_count": null,
      "metadata": {
        "id": "g9N4xX-7yCr2"
      },
      "outputs": [],
      "source": [
        "!python3 /content/vosk-tts/training/train_finetune.py"
      ]
    },
    {
      "cell_type": "markdown",
      "metadata": {
        "id": "lZMYp7AXiEH1"
      },
      "source": [
        "В файле stft.py в 206 строчке меняем\n",
        "**`fft_window = pad_center(fft_window, filter_length)`**\n",
        "на\n",
        "**`fft_window = pad_center(fft_window, size=filter_length)`**\n"
      ]
    },
    {
      "cell_type": "markdown",
      "metadata": {
        "id": "cXI4hoIYizFU"
      },
      "source": [
        "В файле onnx_export.py в 30 строчке меняем путь до последнего G_чекпоинта, он будет показан в выводе при завершении дообучения"
      ]
    },
    {
      "cell_type": "markdown",
      "metadata": {
        "id": "_ALOVhmcjMyc"
      },
      "source": [
        "Экспортированная модель будет лежать по такому пути:"
      ]
    },
    {
      "cell_type": "code",
      "execution_count": null,
      "metadata": {
        "id": "25D7fjXrjU5t"
      },
      "outputs": [],
      "source": [
        "%pwd"
      ]
    },
    {
      "cell_type": "markdown",
      "metadata": {
        "id": "gTpJL1ZOjdCR"
      },
      "source": [
        "Экспортируем модель"
      ]
    },
    {
      "cell_type": "code",
      "execution_count": null,
      "metadata": {
        "id": "QBffOcLyy4r4"
      },
      "outputs": [],
      "source": [
        "!python3 onnx_export.py"
      ]
    },
    {
      "cell_type": "markdown",
      "metadata": {
        "id": "w7qdazz9jjhl"
      },
      "source": [
        "Новую модель нужно переместить в папку vosk-model-ru-0.4-multi, удалив перед эти старую модель"
      ]
    },
    {
      "cell_type": "markdown",
      "metadata": {
        "id": "2mZDMX7Hj-3_"
      },
      "source": [
        "Посмотрим на результат обучения"
      ]
    },
    {
      "cell_type": "code",
      "execution_count": null,
      "metadata": {
        "colab": {
          "base_uri": "https://localhost:8080/",
          "height": 93
        },
        "id": "mIu9BvtkR-zD",
        "outputId": "ddef847e-4440-44e4-9db6-2e79ba8549ed"
      },
      "outputs": [
        {
          "name": "stdout",
          "output_type": "stream",
          "text": [
            "/content/vosk-tts/training/output.wav\n"
          ]
        },
        {
          "data": {
            "text/html": [
              "\n",
              "                <audio  controls=\"controls\" >\n",
              "                    <source src=\"data:audio/x-wav;base64,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\" type=\"audio/x-wav\" />\n",
              "                    Your browser does not support the audio element.\n",
              "                </audio>\n",
              "              "
            ],
            "text/plain": [
              "<IPython.lib.display.Audio object>"
            ]
          },
          "execution_count": 63,
          "metadata": {},
          "output_type": "execute_result"
        }
      ],
      "source": [
        "from vosk_tts import Model, Synth\n",
        "import IPython\n",
        "\n",
        "PATH_TO_MODEL = \"/content/vosk-tts/training/vosk-model-tts-ru-0.4-multi\"\n",
        "PATH_TO_OUTPUT = \"/content/vosk-tts/training\"\n",
        "\n",
        "\n",
        "class VoiceGenerator:\n",
        "    def __init__(self):\n",
        "        self.model = Model(model_path=PATH_TO_MODEL)\n",
        "    def generate(self, text):\n",
        "        synth = Synth(self.model)\n",
        "        path = os.path.join(PATH_TO_OUTPUT, \"output.wav\")\n",
        "        synth.synth(text, path)\n",
        "        return path\n",
        "\n",
        "\n",
        "# Example of usage\n",
        "vg = VoiceGenerator()"
      ]
    },
    {
      "cell_type": "code",
      "execution_count": null,
      "metadata": {
        "id": "kNPzwbXHReB7"
      },
      "outputs": [],
      "source": [
        "path_to_file = vg.generate(\"Я Павел Воля!\")\n",
        "print(path_to_file)\n",
        "IPython.display.Audio(path_to_file)"
      ]
    }
  ],
  "metadata": {
    "accelerator": "GPU",
    "colab": {
      "gpuType": "T4",
      "provenance": []
    },
    "kernelspec": {
      "display_name": "Python 3",
      "name": "python3"
    },
    "language_info": {
      "name": "python"
    }
  },
  "nbformat": 4,
  "nbformat_minor": 0
}
